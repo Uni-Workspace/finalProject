{
 "cells": [
  {
   "cell_type": "code",
   "execution_count": 1,
   "metadata": {},
   "outputs": [],
   "source": [
    "import socket"
   ]
  },
  {
   "cell_type": "code",
   "execution_count": 5,
   "metadata": {},
   "outputs": [
    {
     "name": "stdout",
     "output_type": "stream",
     "text": [
      "A\n",
      "BB\n",
      "CCC\n",
      "DDDD\n",
      "EEEEE\n",
      "FFFFFF\n",
      "GGGGG\n",
      "HHHH\n",
      "III\n",
      "JJ\n",
      "K\n"
     ]
    }
   ],
   "source": [
    "with open(\"test.txt\" , \"r\") as file:\n",
    "    data = file.read()\n",
    "    print(data)"
   ]
  },
  {
   "cell_type": "code",
   "execution_count": 7,
   "metadata": {},
   "outputs": [
    {
     "name": "stdout",
     "output_type": "stream",
     "text": [
      "Received from server: a\n",
      " -> bye\n"
     ]
    }
   ],
   "source": [
    "host = socket.gethostname()  # as both code is running on same pc\n",
    "port = 5000  # socket server port number\n",
    "\n",
    "client_socket = socket.socket()  # instantiate\n",
    "client_socket.connect((host, port))  # connect to the server\n",
    "\n",
    "# message = input(\" -> \")  # take input\n",
    "with open(\"test.txt\" , \"r\") as file:\n",
    "    message = file.read()\n",
    "    \n",
    "while message.lower().strip() != 'bye':\n",
    "    client_socket.send(message.encode())  # send message\n",
    "    data = client_socket.recv(1024*16).decode()  # receive response\n",
    "\n",
    "    print('Received from server: ' + data)  # show in terminal\n",
    "\n",
    "    message = input(\" -> \")  # again take input\n",
    "\n",
    "client_socket.close()  # close the connection"
   ]
  },
  {
   "cell_type": "code",
   "execution_count": null,
   "metadata": {},
   "outputs": [],
   "source": []
  }
 ],
 "metadata": {
  "kernelspec": {
   "display_name": "Python 3",
   "language": "python",
   "name": "python3"
  },
  "language_info": {
   "codemirror_mode": {
    "name": "ipython",
    "version": 3
   },
   "file_extension": ".py",
   "mimetype": "text/x-python",
   "name": "python",
   "nbconvert_exporter": "python",
   "pygments_lexer": "ipython3",
   "version": "3.8.6"
  }
 },
 "nbformat": 4,
 "nbformat_minor": 4
}
