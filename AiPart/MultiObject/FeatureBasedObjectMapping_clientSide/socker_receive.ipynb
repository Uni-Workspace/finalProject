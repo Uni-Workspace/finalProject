{
 "cells": [
  {
   "cell_type": "code",
   "execution_count": 1,
   "metadata": {},
   "outputs": [],
   "source": [
    "import socket\n",
    "import os"
   ]
  },
  {
   "cell_type": "code",
   "execution_count": 3,
   "metadata": {
    "scrolled": true
   },
   "outputs": [
    {
     "name": "stdout",
     "output_type": "stream",
     "text": [
      "Connection from: ('192.168.56.1', 7266)\n",
      "from connected user: [(39, 51), 2]\n"
     ]
    }
   ],
   "source": [
    "# get the hostname\n",
    "host = socket.gethostname()\n",
    "port = 5000  # initiate port no above 1024\n",
    "\n",
    "server_socket = socket.socket()  # get instance\n",
    "# look closely. The bind() function takes tuple as argument\n",
    "server_socket.bind((host, port))  # bind host address and port together\n",
    "\n",
    "# configure how many client the server can listen simultaneously\n",
    "server_socket.listen(2)\n",
    "conn, address = server_socket.accept()  # accept new connection\n",
    "print(\"Connection from: \" + str(address))\n",
    "while True:\n",
    "    # receive data stream. it won't accept data packet greater than 1024 bytes\n",
    "    data = conn.recv(16).decode()\n",
    "    if not data:\n",
    "        # if data is not received break\n",
    "        break\n",
    "    print(\"from connected user: \" + str(data))\n",
    "#     data = input(' -> ')\n",
    "#     conn.send(data.encode())  # send data to the client\n",
    "\n",
    "conn.close()  # close the connection"
   ]
  },
  {
   "cell_type": "code",
   "execution_count": null,
   "metadata": {},
   "outputs": [],
   "source": []
  },
  {
   "cell_type": "code",
   "execution_count": null,
   "metadata": {},
   "outputs": [],
   "source": []
  },
  {
   "cell_type": "code",
   "execution_count": null,
   "metadata": {},
   "outputs": [],
   "source": []
  },
  {
   "cell_type": "code",
   "execution_count": null,
   "metadata": {},
   "outputs": [],
   "source": []
  }
 ],
 "metadata": {
  "kernelspec": {
   "display_name": "Python 3",
   "language": "python",
   "name": "python3"
  },
  "language_info": {
   "codemirror_mode": {
    "name": "ipython",
    "version": 3
   },
   "file_extension": ".py",
   "mimetype": "text/x-python",
   "name": "python",
   "nbconvert_exporter": "python",
   "pygments_lexer": "ipython3",
   "version": "3.8.6"
  }
 },
 "nbformat": 4,
 "nbformat_minor": 4
}
